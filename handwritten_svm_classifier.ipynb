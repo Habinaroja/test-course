{
  "nbformat": 4,
  "nbformat_minor": 0,
  "metadata": {
    "colab": {
      "provenance": [],
      "authorship_tag": "ABX9TyPrzTMMD8opY08OqGroFsb0",
      "include_colab_link": true
    },
    "kernelspec": {
      "name": "python3",
      "display_name": "Python 3"
    },
    "language_info": {
      "name": "python"
    }
  },
  "cells": [
    {
      "cell_type": "markdown",
      "metadata": {
        "id": "view-in-github",
        "colab_type": "text"
      },
      "source": [
        "<a href=\"https://colab.research.google.com/github/Habinaroja/test-course/blob/main/handwritten_svm_classifier.ipynb\" target=\"_parent\"><img src=\"https://colab.research.google.com/assets/colab-badge.svg\" alt=\"Open In Colab\"/></a>"
      ]
    },
    {
      "cell_type": "code",
      "execution_count": null,
      "metadata": {
        "id": "iSpyfABkTn7f"
      },
      "outputs": [],
      "source": [
        "import numpy as np\n",
        "from sklearn.datasets import load_digits"
      ]
    },
    {
      "cell_type": "code",
      "source": [
        "dataset=load_digits()\n",
        "dataset"
      ],
      "metadata": {
        "colab": {
          "base_uri": "https://localhost:8080/"
        },
        "id": "FPrSxxSHZEeZ",
        "outputId": "104273a6-7c13-4d85-a575-64cd2feca584"
      },
      "execution_count": null,
      "outputs": [
        {
          "output_type": "execute_result",
          "data": {
            "text/plain": [
              "{'data': array([[ 0.,  0.,  5., ...,  0.,  0.,  0.],\n",
              "        [ 0.,  0.,  0., ..., 10.,  0.,  0.],\n",
              "        [ 0.,  0.,  0., ..., 16.,  9.,  0.],\n",
              "        ...,\n",
              "        [ 0.,  0.,  1., ...,  6.,  0.,  0.],\n",
              "        [ 0.,  0.,  2., ..., 12.,  0.,  0.],\n",
              "        [ 0.,  0., 10., ..., 12.,  1.,  0.]]),\n",
              " 'target': array([0, 1, 2, ..., 8, 9, 8]),\n",
              " 'frame': None,\n",
              " 'feature_names': ['pixel_0_0',\n",
              "  'pixel_0_1',\n",
              "  'pixel_0_2',\n",
              "  'pixel_0_3',\n",
              "  'pixel_0_4',\n",
              "  'pixel_0_5',\n",
              "  'pixel_0_6',\n",
              "  'pixel_0_7',\n",
              "  'pixel_1_0',\n",
              "  'pixel_1_1',\n",
              "  'pixel_1_2',\n",
              "  'pixel_1_3',\n",
              "  'pixel_1_4',\n",
              "  'pixel_1_5',\n",
              "  'pixel_1_6',\n",
              "  'pixel_1_7',\n",
              "  'pixel_2_0',\n",
              "  'pixel_2_1',\n",
              "  'pixel_2_2',\n",
              "  'pixel_2_3',\n",
              "  'pixel_2_4',\n",
              "  'pixel_2_5',\n",
              "  'pixel_2_6',\n",
              "  'pixel_2_7',\n",
              "  'pixel_3_0',\n",
              "  'pixel_3_1',\n",
              "  'pixel_3_2',\n",
              "  'pixel_3_3',\n",
              "  'pixel_3_4',\n",
              "  'pixel_3_5',\n",
              "  'pixel_3_6',\n",
              "  'pixel_3_7',\n",
              "  'pixel_4_0',\n",
              "  'pixel_4_1',\n",
              "  'pixel_4_2',\n",
              "  'pixel_4_3',\n",
              "  'pixel_4_4',\n",
              "  'pixel_4_5',\n",
              "  'pixel_4_6',\n",
              "  'pixel_4_7',\n",
              "  'pixel_5_0',\n",
              "  'pixel_5_1',\n",
              "  'pixel_5_2',\n",
              "  'pixel_5_3',\n",
              "  'pixel_5_4',\n",
              "  'pixel_5_5',\n",
              "  'pixel_5_6',\n",
              "  'pixel_5_7',\n",
              "  'pixel_6_0',\n",
              "  'pixel_6_1',\n",
              "  'pixel_6_2',\n",
              "  'pixel_6_3',\n",
              "  'pixel_6_4',\n",
              "  'pixel_6_5',\n",
              "  'pixel_6_6',\n",
              "  'pixel_6_7',\n",
              "  'pixel_7_0',\n",
              "  'pixel_7_1',\n",
              "  'pixel_7_2',\n",
              "  'pixel_7_3',\n",
              "  'pixel_7_4',\n",
              "  'pixel_7_5',\n",
              "  'pixel_7_6',\n",
              "  'pixel_7_7'],\n",
              " 'target_names': array([0, 1, 2, 3, 4, 5, 6, 7, 8, 9]),\n",
              " 'images': array([[[ 0.,  0.,  5., ...,  1.,  0.,  0.],\n",
              "         [ 0.,  0., 13., ..., 15.,  5.,  0.],\n",
              "         [ 0.,  3., 15., ..., 11.,  8.,  0.],\n",
              "         ...,\n",
              "         [ 0.,  4., 11., ..., 12.,  7.,  0.],\n",
              "         [ 0.,  2., 14., ..., 12.,  0.,  0.],\n",
              "         [ 0.,  0.,  6., ...,  0.,  0.,  0.]],\n",
              " \n",
              "        [[ 0.,  0.,  0., ...,  5.,  0.,  0.],\n",
              "         [ 0.,  0.,  0., ...,  9.,  0.,  0.],\n",
              "         [ 0.,  0.,  3., ...,  6.,  0.,  0.],\n",
              "         ...,\n",
              "         [ 0.,  0.,  1., ...,  6.,  0.,  0.],\n",
              "         [ 0.,  0.,  1., ...,  6.,  0.,  0.],\n",
              "         [ 0.,  0.,  0., ..., 10.,  0.,  0.]],\n",
              " \n",
              "        [[ 0.,  0.,  0., ..., 12.,  0.,  0.],\n",
              "         [ 0.,  0.,  3., ..., 14.,  0.,  0.],\n",
              "         [ 0.,  0.,  8., ..., 16.,  0.,  0.],\n",
              "         ...,\n",
              "         [ 0.,  9., 16., ...,  0.,  0.,  0.],\n",
              "         [ 0.,  3., 13., ..., 11.,  5.,  0.],\n",
              "         [ 0.,  0.,  0., ..., 16.,  9.,  0.]],\n",
              " \n",
              "        ...,\n",
              " \n",
              "        [[ 0.,  0.,  1., ...,  1.,  0.,  0.],\n",
              "         [ 0.,  0., 13., ...,  2.,  1.,  0.],\n",
              "         [ 0.,  0., 16., ..., 16.,  5.,  0.],\n",
              "         ...,\n",
              "         [ 0.,  0., 16., ..., 15.,  0.,  0.],\n",
              "         [ 0.,  0., 15., ..., 16.,  0.,  0.],\n",
              "         [ 0.,  0.,  2., ...,  6.,  0.,  0.]],\n",
              " \n",
              "        [[ 0.,  0.,  2., ...,  0.,  0.,  0.],\n",
              "         [ 0.,  0., 14., ..., 15.,  1.,  0.],\n",
              "         [ 0.,  4., 16., ..., 16.,  7.,  0.],\n",
              "         ...,\n",
              "         [ 0.,  0.,  0., ..., 16.,  2.,  0.],\n",
              "         [ 0.,  0.,  4., ..., 16.,  2.,  0.],\n",
              "         [ 0.,  0.,  5., ..., 12.,  0.,  0.]],\n",
              " \n",
              "        [[ 0.,  0., 10., ...,  1.,  0.,  0.],\n",
              "         [ 0.,  2., 16., ...,  1.,  0.,  0.],\n",
              "         [ 0.,  0., 15., ..., 15.,  0.,  0.],\n",
              "         ...,\n",
              "         [ 0.,  4., 16., ..., 16.,  6.,  0.],\n",
              "         [ 0.,  8., 16., ..., 16.,  8.,  0.],\n",
              "         [ 0.,  1.,  8., ..., 12.,  1.,  0.]]]),\n",
              " 'DESCR': \".. _digits_dataset:\\n\\nOptical recognition of handwritten digits dataset\\n--------------------------------------------------\\n\\n**Data Set Characteristics:**\\n\\n    :Number of Instances: 1797\\n    :Number of Attributes: 64\\n    :Attribute Information: 8x8 image of integer pixels in the range 0..16.\\n    :Missing Attribute Values: None\\n    :Creator: E. Alpaydin (alpaydin '@' boun.edu.tr)\\n    :Date: July; 1998\\n\\nThis is a copy of the test set of the UCI ML hand-written digits datasets\\nhttps://archive.ics.uci.edu/ml/datasets/Optical+Recognition+of+Handwritten+Digits\\n\\nThe data set contains images of hand-written digits: 10 classes where\\neach class refers to a digit.\\n\\nPreprocessing programs made available by NIST were used to extract\\nnormalized bitmaps of handwritten digits from a preprinted form. From a\\ntotal of 43 people, 30 contributed to the training set and different 13\\nto the test set. 32x32 bitmaps are divided into nonoverlapping blocks of\\n4x4 and the number of on pixels are counted in each block. This generates\\nan input matrix of 8x8 where each element is an integer in the range\\n0..16. This reduces dimensionality and gives invariance to small\\ndistortions.\\n\\nFor info on NIST preprocessing routines, see M. D. Garris, J. L. Blue, G.\\nT. Candela, D. L. Dimmick, J. Geist, P. J. Grother, S. A. Janet, and C.\\nL. Wilson, NIST Form-Based Handprint Recognition System, NISTIR 5469,\\n1994.\\n\\n|details-start|\\n**References**\\n|details-split|\\n\\n- C. Kaynak (1995) Methods of Combining Multiple Classifiers and Their\\n  Applications to Handwritten Digit Recognition, MSc Thesis, Institute of\\n  Graduate Studies in Science and Engineering, Bogazici University.\\n- E. Alpaydin, C. Kaynak (1998) Cascading Classifiers, Kybernetika.\\n- Ken Tang and Ponnuthurai N. Suganthan and Xi Yao and A. Kai Qin.\\n  Linear dimensionalityreduction using relevance weighted LDA. School of\\n  Electrical and Electronic Engineering Nanyang Technological University.\\n  2005.\\n- Claudio Gentile. A New Approximate Maximal Margin Classification\\n  Algorithm. NIPS. 2000.\\n\\n|details-end|\"}"
            ]
          },
          "metadata": {},
          "execution_count": 5
        }
      ]
    },
    {
      "cell_type": "code",
      "source": [
        "print(dataset.data)\n",
        "print(dataset.target)\n",
        "print(dataset.data.shape)\n",
        "print(dataset.images.shape)"
      ],
      "metadata": {
        "colab": {
          "base_uri": "https://localhost:8080/"
        },
        "id": "cGj8QIMoZ2Ql",
        "outputId": "504f7cbf-1e59-4360-85b3-a1c8f0a98f0e"
      },
      "execution_count": null,
      "outputs": [
        {
          "output_type": "stream",
          "name": "stdout",
          "text": [
            "[[ 0.  0.  5. ...  0.  0.  0.]\n",
            " [ 0.  0.  0. ... 10.  0.  0.]\n",
            " [ 0.  0.  0. ... 16.  9.  0.]\n",
            " ...\n",
            " [ 0.  0.  1. ...  6.  0.  0.]\n",
            " [ 0.  0.  2. ... 12.  0.  0.]\n",
            " [ 0.  0. 10. ... 12.  1.  0.]]\n",
            "[0 1 2 ... 8 9 8]\n",
            "(1797, 64)\n",
            "(1797, 8, 8)\n"
          ]
        }
      ]
    },
    {
      "cell_type": "code",
      "source": [
        "n=int(input(\"enter a number:\"))\n",
        "import matplotlib.pyplot as plt\n",
        "plt.gray()\n",
        "plt.matshow(dataset.images[n])\n",
        "plt.show()\n",
        "dataset.images[n]"
      ],
      "metadata": {
        "colab": {
          "base_uri": "https://localhost:8080/",
          "height": 611
        },
        "id": "h6129Dqwael1",
        "outputId": "cca65923-2ead-4ff2-cc10-e61ef8dd8052"
      },
      "execution_count": null,
      "outputs": [
        {
          "name": "stdout",
          "output_type": "stream",
          "text": [
            "enter a number:9\n"
          ]
        },
        {
          "output_type": "display_data",
          "data": {
            "text/plain": [
              "<Figure size 640x480 with 0 Axes>"
            ]
          },
          "metadata": {}
        },
        {
          "output_type": "display_data",
          "data": {
            "text/plain": [
              "<Figure size 480x480 with 1 Axes>"
            ],
            "image/png": "[encoded data removed]"
          },
          "metadata": {}
        },
        {
          "output_type": "execute_result",
          "data": {
            "text/plain": [
              "array([[ 0.,  0., 11., 12.,  0.,  0.,  0.,  0.],\n",
              "       [ 0.,  2., 16., 16., 16., 13.,  0.,  0.],\n",
              "       [ 0.,  3., 16., 12., 10., 14.,  0.,  0.],\n",
              "       [ 0.,  1., 16.,  1., 12., 15.,  0.,  0.],\n",
              "       [ 0.,  0., 13., 16.,  9., 15.,  2.,  0.],\n",
              "       [ 0.,  0.,  0.,  3.,  0.,  9., 11.,  0.],\n",
              "       [ 0.,  0.,  0.,  0.,  9., 15.,  4.,  0.],\n",
              "       [ 0.,  0.,  9., 12., 13.,  3.,  0.,  0.]])"
            ]
          },
          "metadata": {},
          "execution_count": 8
        }
      ]
    },
    {
      "cell_type": "code",
      "source": [
        "x=dataset.images.reshape(len(dataset.images),-1)\n",
        "x"
      ],
      "metadata": {
        "colab": {
          "base_uri": "https://localhost:8080/"
        },
        "id": "BYkhPDpmbVEt",
        "outputId": "a956cf56-5cee-4399-a7be-5b8ce997f971"
      },
      "execution_count": null,
      "outputs": [
        {
          "output_type": "execute_result",
          "data": {
            "text/plain": [
              "array([[ 0.,  0.,  5., ...,  0.,  0.,  0.],\n",
              "       [ 0.,  0.,  0., ..., 10.,  0.,  0.],\n",
              "       [ 0.,  0.,  0., ..., 16.,  9.,  0.],\n",
              "       ...,\n",
              "       [ 0.,  0.,  1., ...,  6.,  0.,  0.],\n",
              "       [ 0.,  0.,  2., ..., 12.,  0.,  0.],\n",
              "       [ 0.,  0., 10., ..., 12.,  1.,  0.]])"
            ]
          },
          "metadata": {},
          "execution_count": 16
        }
      ]
    },
    {
      "cell_type": "code",
      "source": [
        "y=dataset.target\n",
        "y"
      ],
      "metadata": {
        "id": "KMrbKpVoeJVJ",
        "colab": {
          "base_uri": "https://localhost:8080/"
        },
        "outputId": "6d45103d-f478-412d-f818-3026a59eee5d"
      },
      "execution_count": null,
      "outputs": [
        {
          "output_type": "execute_result",
          "data": {
            "text/plain": [
              "array([0, 1, 2, ..., 8, 9, 8])"
            ]
          },
          "metadata": {},
          "execution_count": 21
        }
      ]
    },
    {
      "cell_type": "code",
      "source": [
        "from sklearn.model_selection import train_test_split\n",
        "x_train,x_test,y_train,y_test=train_test_split(x,y,test_size=0.25,random_state=0)\n",
        "print(x_train.shape)\n",
        "print(x_test.shape)"
      ],
      "metadata": {
        "colab": {
          "base_uri": "https://localhost:8080/"
        },
        "id": "1TWdKfm7jhk3",
        "outputId": "ee807021-09c2-4952-93b8-9f173290066e"
      },
      "execution_count": null,
      "outputs": [
        {
          "output_type": "stream",
          "name": "stdout",
          "text": [
            "(1365, 64)\n",
            "(432, 64)\n"
          ]
        }
      ]
    },
    {
      "cell_type": "code",
      "source": [
        "from sklearn import svm\n",
        "model=svm.SVC(kernel='linear')\n",
        "model.fit(x_train,y_train)"
      ],
      "metadata": {
        "colab": {
          "base_uri": "https://localhost:8080/",
          "height": 75
        },
        "id": "cLehadrRklWg",
        "outputId": "ca2b611a-51f8-4268-ff18-73e297666335"
      },
      "execution_count": null,
      "outputs": [
        {
          "output_type": "execute_result",
          "data": {
            "text/plain": [
              "SVC(kernel='linear')"
            ],
            "text/html": [
              "<style>#sk-container-id-3 {color: black;}#sk-container-id-3 pre{padding: 0;}#sk-container-id-3 div.sk-toggleable {background-color: white;}#sk-container-id-3 label.sk-toggleable__label {cursor: pointer;display: block;width: 100%;margin-bottom: 0;padding: 0.3em;box-sizing: border-box;text-align: center;}#sk-container-id-3 label.sk-toggleable__label-arrow:before {content: \"▸\";float: left;margin-right: 0.25em;color: #696969;}#sk-container-id-3 label.sk-toggleable__label-arrow:hover:before {color: black;}#sk-container-id-3 div.sk-estimator:hover label.sk-toggleable__label-arrow:before {color: black;}#sk-container-id-3 div.sk-toggleable__content {max-height: 0;max-width: 0;overflow: hidden;text-align: left;background-color: #f0f8ff;}#sk-container-id-3 div.sk-toggleable__content pre {margin: 0.2em;color: black;border-radius: 0.25em;background-color: #f0f8ff;}#sk-container-id-3 input.sk-toggleable__control:checked~div.sk-toggleable__content {max-height: 200px;max-width: 100%;overflow: auto;}#sk-container-id-3 input.sk-toggleable__control:checked~label.sk-toggleable__label-arrow:before {content: \"▾\";}#sk-container-id-3 div.sk-estimator input.sk-toggleable__control:checked~label.sk-toggleable__label {background-color: #d4ebff;}#sk-container-id-3 div.sk-label input.sk-toggleable__control:checked~label.sk-toggleable__label {background-color: #d4ebff;}#sk-container-id-3 input.sk-hidden--visually {border: 0;clip: rect(1px 1px 1px 1px);clip: rect(1px, 1px, 1px, 1px);height: 1px;margin: -1px;overflow: hidden;padding: 0;position: absolute;width: 1px;}#sk-container-id-3 div.sk-estimator {font-family: monospace;background-color: #f0f8ff;border: 1px dotted black;border-radius: 0.25em;box-sizing: border-box;margin-bottom: 0.5em;}#sk-container-id-3 div.sk-estimator:hover {background-color: #d4ebff;}#sk-container-id-3 div.sk-parallel-item::after {content: \"\";width: 100%;border-bottom: 1px solid gray;flex-grow: 1;}#sk-container-id-3 div.sk-label:hover label.sk-toggleable__label {background-color: #d4ebff;}#sk-container-id-3 div.sk-serial::before {content: \"\";position: absolute;border-left: 1px solid gray;box-sizing: border-box;top: 0;bottom: 0;left: 50%;z-index: 0;}#sk-container-id-3 div.sk-serial {display: flex;flex-direction: column;align-items: center;background-color: white;padding-right: 0.2em;padding-left: 0.2em;position: relative;}#sk-container-id-3 div.sk-item {position: relative;z-index: 1;}#sk-container-id-3 div.sk-parallel {display: flex;align-items: stretch;justify-content: center;background-color: white;position: relative;}#sk-container-id-3 div.sk-item::before, #sk-container-id-3 div.sk-parallel-item::before {content: \"\";position: absolute;border-left: 1px solid gray;box-sizing: border-box;top: 0;bottom: 0;left: 50%;z-index: -1;}#sk-container-id-3 div.sk-parallel-item {display: flex;flex-direction: column;z-index: 1;position: relative;background-color: white;}#sk-container-id-3 div.sk-parallel-item:first-child::after {align-self: flex-end;width: 50%;}#sk-container-id-3 div.sk-parallel-item:last-child::after {align-self: flex-start;width: 50%;}#sk-container-id-3 div.sk-parallel-item:only-child::after {width: 0;}#sk-container-id-3 div.sk-dashed-wrapped {border: 1px dashed gray;margin: 0 0.4em 0.5em 0.4em;box-sizing: border-box;padding-bottom: 0.4em;background-color: white;}#sk-container-id-3 div.sk-label label {font-family: monospace;font-weight: bold;display: inline-block;line-height: 1.2em;}#sk-container-id-3 div.sk-label-container {text-align: center;}#sk-container-id-3 div.sk-container {/* jupyter's `normalize.less` sets `[hidden] { display: none; }` but bootstrap.min.css set `[hidden] { display: none !important; }` so we also need the `!important` here to be able to override the default hidden behavior on the sphinx rendered scikit-learn.org. See: https://github.com/scikit-learn/scikit-learn/issues/21755 */display: inline-block !important;position: relative;}#sk-container-id-3 div.sk-text-repr-fallback {display: none;}</style><div id=\"sk-container-id-3\" class=\"sk-top-container\"><div class=\"sk-text-repr-fallback\"><pre>SVC(kernel=&#x27;linear&#x27;)</pre><b>In a Jupyter environment, please rerun this cell to show the HTML representation or trust the notebook. <br />On GitHub, the HTML representation is unable to render, please try loading this page with nbviewer.org.</b></div><div class=\"sk-container\" hidden><div class=\"sk-item\"><div class=\"sk-estimator sk-toggleable\"><input class=\"sk-toggleable__control sk-hidden--visually\" id=\"sk-estimator-id-3\" type=\"checkbox\" checked><label for=\"sk-estimator-id-3\" class=\"sk-toggleable__label sk-toggleable__label-arrow\">SVC</label><div class=\"sk-toggleable__content\"><pre>SVC(kernel=&#x27;linear&#x27;)</pre></div></div></div></div></div>"
            ]
          },
          "metadata": {},
          "execution_count": 44
        }
      ]
    },
    {
      "cell_type": "code",
      "source": [
        "y_pred=model.predict(x_test)\n",
        "print(np.concatenate((y_pred.reshape(-1,1),y_test.reshape(-1,1)),axis=1))"
      ],
      "metadata": {
        "colab": {
          "base_uri": "https://localhost:8080/"
        },
        "id": "SYoCNMb7lRNF",
        "outputId": "f3e96b26-297e-4ac6-99f0-1a3f09bb5e46"
      },
      "execution_count": null,
      "outputs": [
        {
          "output_type": "stream",
          "name": "stdout",
          "text": [
            "[[2 2]\n",
            " [8 8]\n",
            " [2 2]\n",
            " [6 6]\n",
            " [6 6]\n",
            " [7 7]\n",
            " [1 1]\n",
            " [9 9]\n",
            " [8 8]\n",
            " [5 5]\n",
            " [2 2]\n",
            " [8 8]\n",
            " [6 6]\n",
            " [6 6]\n",
            " [6 6]\n",
            " [6 6]\n",
            " [1 1]\n",
            " [0 0]\n",
            " [5 5]\n",
            " [8 8]\n",
            " [8 8]\n",
            " [7 7]\n",
            " [8 8]\n",
            " [4 4]\n",
            " [7 7]\n",
            " [5 5]\n",
            " [4 4]\n",
            " [9 9]\n",
            " [2 2]\n",
            " [9 9]\n",
            " [4 4]\n",
            " [7 7]\n",
            " [6 6]\n",
            " [8 8]\n",
            " [9 9]\n",
            " [4 4]\n",
            " [3 3]\n",
            " [1 1]\n",
            " [0 0]\n",
            " [1 1]\n",
            " [8 8]\n",
            " [6 6]\n",
            " [7 7]\n",
            " [7 7]\n",
            " [1 1]\n",
            " [0 0]\n",
            " [7 7]\n",
            " [6 6]\n",
            " [2 2]\n",
            " [1 1]\n",
            " [9 9]\n",
            " [6 6]\n",
            " [7 7]\n",
            " [9 9]\n",
            " [0 0]\n",
            " [0 0]\n",
            " [5 5]\n",
            " [1 1]\n",
            " [6 6]\n",
            " [3 3]\n",
            " [0 0]\n",
            " [2 2]\n",
            " [3 3]\n",
            " [4 4]\n",
            " [1 1]\n",
            " [9 9]\n",
            " [2 2]\n",
            " [6 6]\n",
            " [9 9]\n",
            " [1 1]\n",
            " [8 8]\n",
            " [3 3]\n",
            " [5 5]\n",
            " [1 1]\n",
            " [2 2]\n",
            " [8 8]\n",
            " [2 2]\n",
            " [2 2]\n",
            " [9 9]\n",
            " [7 7]\n",
            " [2 2]\n",
            " [3 3]\n",
            " [6 6]\n",
            " [0 0]\n",
            " [5 5]\n",
            " [3 3]\n",
            " [7 7]\n",
            " [5 5]\n",
            " [1 1]\n",
            " [2 2]\n",
            " [9 9]\n",
            " [9 9]\n",
            " [3 3]\n",
            " [1 1]\n",
            " [7 7]\n",
            " [7 7]\n",
            " [4 4]\n",
            " [8 8]\n",
            " [5 5]\n",
            " [8 8]\n",
            " [5 5]\n",
            " [5 5]\n",
            " [2 2]\n",
            " [5 5]\n",
            " [9 9]\n",
            " [0 0]\n",
            " [7 7]\n",
            " [1 1]\n",
            " [4 4]\n",
            " [4 7]\n",
            " [3 3]\n",
            " [4 4]\n",
            " [8 8]\n",
            " [9 9]\n",
            " [7 7]\n",
            " [9 9]\n",
            " [8 8]\n",
            " [2 2]\n",
            " [1 6]\n",
            " [5 5]\n",
            " [2 2]\n",
            " [5 5]\n",
            " [8 8]\n",
            " [4 4]\n",
            " [1 8]\n",
            " [7 7]\n",
            " [0 0]\n",
            " [6 6]\n",
            " [1 1]\n",
            " [5 5]\n",
            " [5 9]\n",
            " [9 9]\n",
            " [9 9]\n",
            " [5 5]\n",
            " [9 9]\n",
            " [9 9]\n",
            " [5 5]\n",
            " [7 7]\n",
            " [5 5]\n",
            " [6 6]\n",
            " [2 2]\n",
            " [8 8]\n",
            " [6 6]\n",
            " [9 9]\n",
            " [6 6]\n",
            " [1 1]\n",
            " [5 5]\n",
            " [1 1]\n",
            " [5 5]\n",
            " [9 9]\n",
            " [9 9]\n",
            " [1 1]\n",
            " [5 5]\n",
            " [3 3]\n",
            " [6 6]\n",
            " [1 1]\n",
            " [8 8]\n",
            " [9 9]\n",
            " [8 8]\n",
            " [7 7]\n",
            " [6 6]\n",
            " [7 7]\n",
            " [6 6]\n",
            " [5 5]\n",
            " [6 6]\n",
            " [0 0]\n",
            " [8 8]\n",
            " [8 8]\n",
            " [9 9]\n",
            " [8 8]\n",
            " [6 6]\n",
            " [1 1]\n",
            " [0 0]\n",
            " [4 4]\n",
            " [1 1]\n",
            " [6 6]\n",
            " [3 3]\n",
            " [8 8]\n",
            " [6 6]\n",
            " [7 7]\n",
            " [4 4]\n",
            " [9 5]\n",
            " [6 6]\n",
            " [3 3]\n",
            " [0 0]\n",
            " [3 3]\n",
            " [3 3]\n",
            " [3 3]\n",
            " [0 0]\n",
            " [7 7]\n",
            " [7 7]\n",
            " [5 5]\n",
            " [7 7]\n",
            " [8 8]\n",
            " [0 0]\n",
            " [7 7]\n",
            " [1 8]\n",
            " [9 9]\n",
            " [6 6]\n",
            " [4 4]\n",
            " [5 5]\n",
            " [0 0]\n",
            " [1 1]\n",
            " [4 4]\n",
            " [6 6]\n",
            " [4 4]\n",
            " [3 3]\n",
            " [3 3]\n",
            " [0 0]\n",
            " [9 9]\n",
            " [5 5]\n",
            " [3 9]\n",
            " [2 2]\n",
            " [1 1]\n",
            " [4 4]\n",
            " [2 2]\n",
            " [1 1]\n",
            " [6 6]\n",
            " [8 8]\n",
            " [9 9]\n",
            " [2 2]\n",
            " [4 4]\n",
            " [9 9]\n",
            " [3 3]\n",
            " [7 7]\n",
            " [6 6]\n",
            " [2 2]\n",
            " [3 3]\n",
            " [3 3]\n",
            " [1 1]\n",
            " [6 6]\n",
            " [9 9]\n",
            " [3 3]\n",
            " [6 6]\n",
            " [3 3]\n",
            " [2 2]\n",
            " [2 2]\n",
            " [0 0]\n",
            " [7 7]\n",
            " [6 6]\n",
            " [1 1]\n",
            " [1 1]\n",
            " [9 9]\n",
            " [7 7]\n",
            " [2 2]\n",
            " [7 7]\n",
            " [8 8]\n",
            " [5 5]\n",
            " [5 5]\n",
            " [7 7]\n",
            " [5 5]\n",
            " [2 2]\n",
            " [3 3]\n",
            " [7 7]\n",
            " [2 2]\n",
            " [7 7]\n",
            " [5 5]\n",
            " [5 5]\n",
            " [7 7]\n",
            " [0 0]\n",
            " [9 9]\n",
            " [1 1]\n",
            " [6 6]\n",
            " [5 5]\n",
            " [9 9]\n",
            " [7 7]\n",
            " [4 4]\n",
            " [3 3]\n",
            " [8 8]\n",
            " [0 0]\n",
            " [3 3]\n",
            " [6 6]\n",
            " [4 4]\n",
            " [6 6]\n",
            " [3 3]\n",
            " [2 2]\n",
            " [6 6]\n",
            " [8 8]\n",
            " [8 8]\n",
            " [8 8]\n",
            " [4 4]\n",
            " [6 6]\n",
            " [7 7]\n",
            " [5 5]\n",
            " [2 2]\n",
            " [4 4]\n",
            " [5 5]\n",
            " [3 3]\n",
            " [2 2]\n",
            " [4 4]\n",
            " [6 6]\n",
            " [9 9]\n",
            " [4 4]\n",
            " [5 5]\n",
            " [4 4]\n",
            " [3 3]\n",
            " [4 4]\n",
            " [6 6]\n",
            " [2 2]\n",
            " [9 9]\n",
            " [0 0]\n",
            " [1 1]\n",
            " [7 7]\n",
            " [2 2]\n",
            " [0 0]\n",
            " [9 9]\n",
            " [6 6]\n",
            " [0 0]\n",
            " [4 4]\n",
            " [2 2]\n",
            " [0 0]\n",
            " [7 7]\n",
            " [9 9]\n",
            " [8 8]\n",
            " [5 5]\n",
            " [4 4]\n",
            " [8 8]\n",
            " [2 2]\n",
            " [8 8]\n",
            " [4 4]\n",
            " [3 3]\n",
            " [7 7]\n",
            " [2 2]\n",
            " [6 6]\n",
            " [9 9]\n",
            " [1 1]\n",
            " [5 5]\n",
            " [1 1]\n",
            " [0 0]\n",
            " [8 8]\n",
            " [2 2]\n",
            " [8 1]\n",
            " [9 9]\n",
            " [5 5]\n",
            " [6 6]\n",
            " [2 8]\n",
            " [2 2]\n",
            " [7 7]\n",
            " [2 2]\n",
            " [1 1]\n",
            " [5 5]\n",
            " [1 1]\n",
            " [6 6]\n",
            " [4 4]\n",
            " [5 5]\n",
            " [0 0]\n",
            " [9 9]\n",
            " [4 4]\n",
            " [1 1]\n",
            " [1 1]\n",
            " [7 7]\n",
            " [0 0]\n",
            " [8 8]\n",
            " [9 9]\n",
            " [0 0]\n",
            " [5 5]\n",
            " [4 4]\n",
            " [3 3]\n",
            " [8 8]\n",
            " [8 8]\n",
            " [6 6]\n",
            " [5 5]\n",
            " [3 3]\n",
            " [4 4]\n",
            " [4 4]\n",
            " [4 4]\n",
            " [8 8]\n",
            " [8 8]\n",
            " [7 7]\n",
            " [0 0]\n",
            " [9 9]\n",
            " [6 6]\n",
            " [3 3]\n",
            " [5 5]\n",
            " [2 2]\n",
            " [3 3]\n",
            " [0 0]\n",
            " [8 8]\n",
            " [2 3]\n",
            " [3 3]\n",
            " [1 1]\n",
            " [3 3]\n",
            " [3 3]\n",
            " [0 0]\n",
            " [0 0]\n",
            " [4 4]\n",
            " [6 6]\n",
            " [0 0]\n",
            " [7 7]\n",
            " [7 7]\n",
            " [6 6]\n",
            " [2 2]\n",
            " [0 0]\n",
            " [4 4]\n",
            " [4 4]\n",
            " [2 2]\n",
            " [3 3]\n",
            " [7 7]\n",
            " [1 8]\n",
            " [9 9]\n",
            " [8 8]\n",
            " [6 6]\n",
            " [8 8]\n",
            " [5 5]\n",
            " [6 6]\n",
            " [2 2]\n",
            " [2 2]\n",
            " [3 3]\n",
            " [1 1]\n",
            " [7 7]\n",
            " [7 7]\n",
            " [8 8]\n",
            " [0 0]\n",
            " [3 3]\n",
            " [3 3]\n",
            " [2 2]\n",
            " [1 1]\n",
            " [5 5]\n",
            " [5 5]\n",
            " [9 9]\n",
            " [1 1]\n",
            " [3 3]\n",
            " [7 7]\n",
            " [0 0]\n",
            " [0 0]\n",
            " [7 7]\n",
            " [0 0]\n",
            " [4 4]\n",
            " [5 5]\n",
            " [9 9]\n",
            " [9 3]\n",
            " [3 3]]\n"
          ]
        }
      ]
    },
    {
      "cell_type": "code",
      "source": [
        "from sklearn.metrics import accuracy_score\n",
        "print(\"accuracy of the model:{0}%\".format(accuracy_score(y_test,y_pred)*100))"
      ],
      "metadata": {
        "colab": {
          "base_uri": "https://localhost:8080/"
        },
        "id": "t_ELYPHhoDva",
        "outputId": "ac80bae5-cfd6-4157-b794-af7eef512d89"
      },
      "execution_count": null,
      "outputs": [
        {
          "output_type": "stream",
          "name": "stdout",
          "text": [
            "accuracy of the model:97.22222222222221%\n"
          ]
        }
      ]
    },
    {
      "cell_type": "code",
      "source": [
        "n=int(input(\"enter the number:\"))\n",
        "result=model.predict(dataset.images[n].reshape((1,-1)))\n",
        "plt.imshow(dataset.images[n],cmap=plt.cm.gray_r,interpolation='nearest')\n",
        "print(\"result:\",result)\n",
        "print(\"/n\")\n",
        "plt.axis(\"off\")\n",
        "plt.title('%i'%result)\n",
        "plt.show"
      ],
      "metadata": {
        "colab": {
          "base_uri": "https://localhost:8080/",
          "height": 705
        },
        "id": "uYiSBIw3o1GC",
        "outputId": "0aa1ef47-9621-4972-c845-e64acb725078"
      },
      "execution_count": null,
      "outputs": [
        {
          "output_type": "stream",
          "name": "stdout",
          "text": [
            "enter the number:14\n",
            "result: [4]\n",
            "/n\n"
          ]
        },
        {
          "output_type": "stream",
          "name": "stderr",
          "text": [
            "<ipython-input-47-34aa90694426>:7: DeprecationWarning: Conversion of an array with ndim > 0 to a scalar is deprecated, and will error in future. Ensure you extract a single element from your array before performing this operation. (Deprecated NumPy 1.25.)\n",
            "  plt.title('%i'%result)\n"
          ]
        },
        {
          "output_type": "execute_result",
          "data": {
            "text/plain": [
              "<function matplotlib.pyplot.show(close=None, block=None)>"
            ],
            "text/html": [
              "<div style=\"max-width:800px; border: 1px solid var(--colab-border-color);\"><style>\n",
              "      pre.function-repr-contents {\n",
              "        overflow-x: auto;\n",
              "        padding: 8px 12px;\n",
              "        max-height: 500px;\n",
              "      }\n",
              "\n",
              "      pre.function-repr-contents.function-repr-contents-collapsed {\n",
              "        cursor: pointer;\n",
              "        max-height: 100px;\n",
              "      }\n",
              "    </style>\n",
              "    <pre style=\"white-space: initial; background:\n",
              "         var(--colab-secondary-surface-color); padding: 8px 12px;\n",
              "         border-bottom: 1px solid var(--colab-border-color);\"><b>matplotlib.pyplot.show</b><br/>def show(*args, **kwargs)</pre><pre class=\"function-repr-contents function-repr-contents-collapsed\" style=\"\"><a class=\"filepath\" style=\"display:none\" href=\"#\">/usr/local/lib/python3.10/dist-packages/matplotlib/pyplot.py</a>Display all open figures.\n",
              "\n",
              "Parameters\n",
              "----------\n",
              "block : bool, optional\n",
              "    Whether to wait for all figures to be closed before returning.\n",
              "\n",
              "    If `True` block and run the GUI main loop until all figure windows\n",
              "    are closed.\n",
              "\n",
              "    If `False` ensure that all figure windows are displayed and return\n",
              "    immediately.  In this case, you are responsible for ensuring\n",
              "    that the event loop is running to have responsive figures.\n",
              "\n",
              "    Defaults to True in non-interactive mode and to False in interactive\n",
              "    mode (see `.pyplot.isinteractive`).\n",
              "\n",
              "See Also\n",
              "--------\n",
              "ion : Enable interactive mode, which shows / updates the figure after\n",
              "      every plotting command, so that calling ``show()`` is not necessary.\n",
              "ioff : Disable interactive mode.\n",
              "savefig : Save the figure to an image file instead of showing it on screen.\n",
              "\n",
              "Notes\n",
              "-----\n",
              "**Saving figures to file and showing a window at the same time**\n",
              "\n",
              "If you want an image file as well as a user interface window, use\n",
              "`.pyplot.savefig` before `.pyplot.show`. At the end of (a blocking)\n",
              "``show()`` the figure is closed and thus unregistered from pyplot. Calling\n",
              "`.pyplot.savefig` afterwards would save a new and thus empty figure. This\n",
              "limitation of command order does not apply if the show is non-blocking or\n",
              "if you keep a reference to the figure and use `.Figure.savefig`.\n",
              "\n",
              "**Auto-show in jupyter notebooks**\n",
              "\n",
              "The jupyter backends (activated via ``%matplotlib inline``,\n",
              "``%matplotlib notebook``, or ``%matplotlib widget``), call ``show()`` at\n",
              "the end of every cell by default. Thus, you usually don&#x27;t have to call it\n",
              "explicitly there.</pre>\n",
              "      <script>\n",
              "      if (google.colab.kernel.accessAllowed && google.colab.files && google.colab.files.view) {\n",
              "        for (const element of document.querySelectorAll('.filepath')) {\n",
              "          element.style.display = 'block'\n",
              "          element.onclick = (event) => {\n",
              "            event.preventDefault();\n",
              "            event.stopPropagation();\n",
              "            google.colab.files.view(element.textContent, 401);\n",
              "          };\n",
              "        }\n",
              "      }\n",
              "      for (const element of document.querySelectorAll('.function-repr-contents')) {\n",
              "        element.onclick = (event) => {\n",
              "          event.preventDefault();\n",
              "          event.stopPropagation();\n",
              "          element.classList.toggle('function-repr-contents-collapsed');\n",
              "        };\n",
              "      }\n",
              "      </script>\n",
              "      </div>"
            ]
          },
          "metadata": {},
          "execution_count": 47
        },
        {
          "output_type": "display_data",
          "data": {
            "text/plain": [
              "<Figure size 640x480 with 1 Axes>"
            ],
            "image/png": "[encoded data removed]"
          },
          "metadata": {}
        }
      ]
    }
  ]
}